{
  "nbformat": 4,
  "nbformat_minor": 0,
  "metadata": {
    "colab": {
      "provenance": []
    },
    "kernelspec": {
      "name": "python3",
      "display_name": "Python 3"
    }
  },
  "cells": [
    {
      "cell_type": "markdown",
      "metadata": {
        "id": "zL5QnDS7i1cz"
      },
      "source": [
        "# 1. feladat\n",
        "\n",
        "Az https://archive.ics.uci.edu/ml/machine-learning-databases/00272/SkillCraft1_Dataset.csv adatbázis StarCraft2 játékosok statisztikáit tartalmazza. Kérdés, hogy ezekből az adatokból mennyire jelezhető előre, hogy melyik ligában játszik a játékos.\n",
        "\n",
        "Hajts végre regressziós gépi tanulási kísérletet a `LeagueIndex` célváltozón (1-8 intervallum), úgy hogy a `GameID > 7000` játékosokat használod kiértékelő adatbázisnak.\n",
        "\n",
        "Vigyázz! Az adatbázisban `?` jelöli a hiányzó értékeket.\n"
      ]
    },
    {
      "cell_type": "code",
      "metadata": {
        "id": "WPR1UZ2iiyx_",
        "colab": {
          "base_uri": "https://localhost:8080/",
          "height": 270
        },
        "outputId": "85bf8253-7be4-43ac-a141-0d30048194d4"
      },
      "source": [
        "import pandas as pd\n",
        "# töltsük be az adatbázist\n",
        "df = pd.read_csv(\"https://archive.ics.uci.edu/ml/machine-learning-databases/00272/SkillCraft1_Dataset.csv\",na_values=\"?\")\n",
        "df.head() # nézzünk rá!"
      ],
      "execution_count": null,
      "outputs": [
        {
          "output_type": "execute_result",
          "data": {
            "text/plain": [
              "   GameID  LeagueIndex   Age  HoursPerWeek  TotalHours       APM  \\\n",
              "0      52            5  27.0          10.0      3000.0  143.7180   \n",
              "1      55            5  23.0          10.0      5000.0  129.2322   \n",
              "2      56            4  30.0          10.0       200.0   69.9612   \n",
              "3      57            3  19.0          20.0       400.0  107.6016   \n",
              "4      58            3  32.0          10.0       500.0  122.8908   \n",
              "\n",
              "   SelectByHotkeys  AssignToHotkeys  UniqueHotkeys  MinimapAttacks  \\\n",
              "0         0.003515         0.000220              7        0.000110   \n",
              "1         0.003304         0.000259              4        0.000294   \n",
              "2         0.001101         0.000336              4        0.000294   \n",
              "3         0.001034         0.000213              1        0.000053   \n",
              "4         0.001136         0.000327              2        0.000000   \n",
              "\n",
              "   MinimapRightClicks  NumberOfPACs  GapBetweenPACs  ActionLatency  \\\n",
              "0            0.000392      0.004849         32.6677        40.8673   \n",
              "1            0.000432      0.004307         32.9194        42.3454   \n",
              "2            0.000461      0.002926         44.6475        75.3548   \n",
              "3            0.000543      0.003783         29.2203        53.7352   \n",
              "4            0.001329      0.002368         22.6885        62.0813   \n",
              "\n",
              "   ActionsInPAC  TotalMapExplored  WorkersMade  UniqueUnitsMade  \\\n",
              "0        4.7508                28     0.001397                6   \n",
              "1        4.8434                22     0.001193                5   \n",
              "2        4.0430                22     0.000745                6   \n",
              "3        4.9155                19     0.000426                7   \n",
              "4        9.3740                15     0.001174                4   \n",
              "\n",
              "   ComplexUnitsMade  ComplexAbilitiesUsed  \n",
              "0               0.0              0.000000  \n",
              "1               0.0              0.000208  \n",
              "2               0.0              0.000189  \n",
              "3               0.0              0.000384  \n",
              "4               0.0              0.000019  "
            ],
            "text/html": [
              "\n",
              "  <div id=\"df-77ff66dd-dd47-4141-aa28-5f7a536cbb6b\">\n",
              "    <div class=\"colab-df-container\">\n",
              "      <div>\n",
              "<style scoped>\n",
              "    .dataframe tbody tr th:only-of-type {\n",
              "        vertical-align: middle;\n",
              "    }\n",
              "\n",
              "    .dataframe tbody tr th {\n",
              "        vertical-align: top;\n",
              "    }\n",
              "\n",
              "    .dataframe thead th {\n",
              "        text-align: right;\n",
              "    }\n",
              "</style>\n",
              "<table border=\"1\" class=\"dataframe\">\n",
              "  <thead>\n",
              "    <tr style=\"text-align: right;\">\n",
              "      <th></th>\n",
              "      <th>GameID</th>\n",
              "      <th>LeagueIndex</th>\n",
              "      <th>Age</th>\n",
              "      <th>HoursPerWeek</th>\n",
              "      <th>TotalHours</th>\n",
              "      <th>APM</th>\n",
              "      <th>SelectByHotkeys</th>\n",
              "      <th>AssignToHotkeys</th>\n",
              "      <th>UniqueHotkeys</th>\n",
              "      <th>MinimapAttacks</th>\n",
              "      <th>MinimapRightClicks</th>\n",
              "      <th>NumberOfPACs</th>\n",
              "      <th>GapBetweenPACs</th>\n",
              "      <th>ActionLatency</th>\n",
              "      <th>ActionsInPAC</th>\n",
              "      <th>TotalMapExplored</th>\n",
              "      <th>WorkersMade</th>\n",
              "      <th>UniqueUnitsMade</th>\n",
              "      <th>ComplexUnitsMade</th>\n",
              "      <th>ComplexAbilitiesUsed</th>\n",
              "    </tr>\n",
              "  </thead>\n",
              "  <tbody>\n",
              "    <tr>\n",
              "      <th>0</th>\n",
              "      <td>52</td>\n",
              "      <td>5</td>\n",
              "      <td>27.0</td>\n",
              "      <td>10.0</td>\n",
              "      <td>3000.0</td>\n",
              "      <td>143.7180</td>\n",
              "      <td>0.003515</td>\n",
              "      <td>0.000220</td>\n",
              "      <td>7</td>\n",
              "      <td>0.000110</td>\n",
              "      <td>0.000392</td>\n",
              "      <td>0.004849</td>\n",
              "      <td>32.6677</td>\n",
              "      <td>40.8673</td>\n",
              "      <td>4.7508</td>\n",
              "      <td>28</td>\n",
              "      <td>0.001397</td>\n",
              "      <td>6</td>\n",
              "      <td>0.0</td>\n",
              "      <td>0.000000</td>\n",
              "    </tr>\n",
              "    <tr>\n",
              "      <th>1</th>\n",
              "      <td>55</td>\n",
              "      <td>5</td>\n",
              "      <td>23.0</td>\n",
              "      <td>10.0</td>\n",
              "      <td>5000.0</td>\n",
              "      <td>129.2322</td>\n",
              "      <td>0.003304</td>\n",
              "      <td>0.000259</td>\n",
              "      <td>4</td>\n",
              "      <td>0.000294</td>\n",
              "      <td>0.000432</td>\n",
              "      <td>0.004307</td>\n",
              "      <td>32.9194</td>\n",
              "      <td>42.3454</td>\n",
              "      <td>4.8434</td>\n",
              "      <td>22</td>\n",
              "      <td>0.001193</td>\n",
              "      <td>5</td>\n",
              "      <td>0.0</td>\n",
              "      <td>0.000208</td>\n",
              "    </tr>\n",
              "    <tr>\n",
              "      <th>2</th>\n",
              "      <td>56</td>\n",
              "      <td>4</td>\n",
              "      <td>30.0</td>\n",
              "      <td>10.0</td>\n",
              "      <td>200.0</td>\n",
              "      <td>69.9612</td>\n",
              "      <td>0.001101</td>\n",
              "      <td>0.000336</td>\n",
              "      <td>4</td>\n",
              "      <td>0.000294</td>\n",
              "      <td>0.000461</td>\n",
              "      <td>0.002926</td>\n",
              "      <td>44.6475</td>\n",
              "      <td>75.3548</td>\n",
              "      <td>4.0430</td>\n",
              "      <td>22</td>\n",
              "      <td>0.000745</td>\n",
              "      <td>6</td>\n",
              "      <td>0.0</td>\n",
              "      <td>0.000189</td>\n",
              "    </tr>\n",
              "    <tr>\n",
              "      <th>3</th>\n",
              "      <td>57</td>\n",
              "      <td>3</td>\n",
              "      <td>19.0</td>\n",
              "      <td>20.0</td>\n",
              "      <td>400.0</td>\n",
              "      <td>107.6016</td>\n",
              "      <td>0.001034</td>\n",
              "      <td>0.000213</td>\n",
              "      <td>1</td>\n",
              "      <td>0.000053</td>\n",
              "      <td>0.000543</td>\n",
              "      <td>0.003783</td>\n",
              "      <td>29.2203</td>\n",
              "      <td>53.7352</td>\n",
              "      <td>4.9155</td>\n",
              "      <td>19</td>\n",
              "      <td>0.000426</td>\n",
              "      <td>7</td>\n",
              "      <td>0.0</td>\n",
              "      <td>0.000384</td>\n",
              "    </tr>\n",
              "    <tr>\n",
              "      <th>4</th>\n",
              "      <td>58</td>\n",
              "      <td>3</td>\n",
              "      <td>32.0</td>\n",
              "      <td>10.0</td>\n",
              "      <td>500.0</td>\n",
              "      <td>122.8908</td>\n",
              "      <td>0.001136</td>\n",
              "      <td>0.000327</td>\n",
              "      <td>2</td>\n",
              "      <td>0.000000</td>\n",
              "      <td>0.001329</td>\n",
              "      <td>0.002368</td>\n",
              "      <td>22.6885</td>\n",
              "      <td>62.0813</td>\n",
              "      <td>9.3740</td>\n",
              "      <td>15</td>\n",
              "      <td>0.001174</td>\n",
              "      <td>4</td>\n",
              "      <td>0.0</td>\n",
              "      <td>0.000019</td>\n",
              "    </tr>\n",
              "  </tbody>\n",
              "</table>\n",
              "</div>\n",
              "      <button class=\"colab-df-convert\" onclick=\"convertToInteractive('df-77ff66dd-dd47-4141-aa28-5f7a536cbb6b')\"\n",
              "              title=\"Convert this dataframe to an interactive table.\"\n",
              "              style=\"display:none;\">\n",
              "        \n",
              "  <svg xmlns=\"http://www.w3.org/2000/svg\" height=\"24px\"viewBox=\"0 0 24 24\"\n",
              "       width=\"24px\">\n",
              "    <path d=\"M0 0h24v24H0V0z\" fill=\"none\"/>\n",
              "    <path d=\"M18.56 5.44l.94 2.06.94-2.06 2.06-.94-2.06-.94-.94-2.06-.94 2.06-2.06.94zm-11 1L8.5 8.5l.94-2.06 2.06-.94-2.06-.94L8.5 2.5l-.94 2.06-2.06.94zm10 10l.94 2.06.94-2.06 2.06-.94-2.06-.94-.94-2.06-.94 2.06-2.06.94z\"/><path d=\"M17.41 7.96l-1.37-1.37c-.4-.4-.92-.59-1.43-.59-.52 0-1.04.2-1.43.59L10.3 9.45l-7.72 7.72c-.78.78-.78 2.05 0 2.83L4 21.41c.39.39.9.59 1.41.59.51 0 1.02-.2 1.41-.59l7.78-7.78 2.81-2.81c.8-.78.8-2.07 0-2.86zM5.41 20L4 18.59l7.72-7.72 1.47 1.35L5.41 20z\"/>\n",
              "  </svg>\n",
              "      </button>\n",
              "      \n",
              "  <style>\n",
              "    .colab-df-container {\n",
              "      display:flex;\n",
              "      flex-wrap:wrap;\n",
              "      gap: 12px;\n",
              "    }\n",
              "\n",
              "    .colab-df-convert {\n",
              "      background-color: #E8F0FE;\n",
              "      border: none;\n",
              "      border-radius: 50%;\n",
              "      cursor: pointer;\n",
              "      display: none;\n",
              "      fill: #1967D2;\n",
              "      height: 32px;\n",
              "      padding: 0 0 0 0;\n",
              "      width: 32px;\n",
              "    }\n",
              "\n",
              "    .colab-df-convert:hover {\n",
              "      background-color: #E2EBFA;\n",
              "      box-shadow: 0px 1px 2px rgba(60, 64, 67, 0.3), 0px 1px 3px 1px rgba(60, 64, 67, 0.15);\n",
              "      fill: #174EA6;\n",
              "    }\n",
              "\n",
              "    [theme=dark] .colab-df-convert {\n",
              "      background-color: #3B4455;\n",
              "      fill: #D2E3FC;\n",
              "    }\n",
              "\n",
              "    [theme=dark] .colab-df-convert:hover {\n",
              "      background-color: #434B5C;\n",
              "      box-shadow: 0px 1px 3px 1px rgba(0, 0, 0, 0.15);\n",
              "      filter: drop-shadow(0px 1px 2px rgba(0, 0, 0, 0.3));\n",
              "      fill: #FFFFFF;\n",
              "    }\n",
              "  </style>\n",
              "\n",
              "      <script>\n",
              "        const buttonEl =\n",
              "          document.querySelector('#df-77ff66dd-dd47-4141-aa28-5f7a536cbb6b button.colab-df-convert');\n",
              "        buttonEl.style.display =\n",
              "          google.colab.kernel.accessAllowed ? 'block' : 'none';\n",
              "\n",
              "        async function convertToInteractive(key) {\n",
              "          const element = document.querySelector('#df-77ff66dd-dd47-4141-aa28-5f7a536cbb6b');\n",
              "          const dataTable =\n",
              "            await google.colab.kernel.invokeFunction('convertToInteractive',\n",
              "                                                     [key], {});\n",
              "          if (!dataTable) return;\n",
              "\n",
              "          const docLinkHtml = 'Like what you see? Visit the ' +\n",
              "            '<a target=\"_blank\" href=https://colab.research.google.com/notebooks/data_table.ipynb>data table notebook</a>'\n",
              "            + ' to learn more about interactive tables.';\n",
              "          element.innerHTML = '';\n",
              "          dataTable['output_type'] = 'display_data';\n",
              "          await google.colab.output.renderOutput(dataTable, element);\n",
              "          const docLink = document.createElement('div');\n",
              "          docLink.innerHTML = docLinkHtml;\n",
              "          element.appendChild(docLink);\n",
              "        }\n",
              "      </script>\n",
              "    </div>\n",
              "  </div>\n",
              "  "
            ]
          },
          "metadata": {},
          "execution_count": 41
        }
      ]
    },
    {
      "cell_type": "code",
      "source": [
        "df.describe()\n",
        "df[df.GameID > 7000].shape #kiértékelő adathalmaz mérete"
      ],
      "metadata": {
        "colab": {
          "base_uri": "https://localhost:8080/"
        },
        "id": "wv6Wp-25CbGo",
        "outputId": "560c6fb0-2919-4c31-f0b8-86eeeacd0a7c"
      },
      "execution_count": null,
      "outputs": [
        {
          "output_type": "execute_result",
          "data": {
            "text/plain": [
              "(886, 20)"
            ]
          },
          "metadata": {},
          "execution_count": 42
        }
      ]
    },
    {
      "cell_type": "code",
      "source": [
        "df=df.dropna() #mivel vannak NAN értékek az adatbázisban, most kidobjuk őket, hogy ne okozzanak gondot később\n",
        "df.shape #az egész adatbázis mérete"
      ],
      "metadata": {
        "colab": {
          "base_uri": "https://localhost:8080/"
        },
        "id": "4gprw-TbC2KZ",
        "outputId": "d11237d5-be80-4f4d-d623-9b3b8cb6be84"
      },
      "execution_count": null,
      "outputs": [
        {
          "output_type": "execute_result",
          "data": {
            "text/plain": [
              "(3338, 20)"
            ]
          },
          "metadata": {},
          "execution_count": 43
        }
      ]
    },
    {
      "cell_type": "markdown",
      "source": [
        "Jól látható, hogy a tanító adatbázis jóval nagyobb, mint a kiértékelő és ez rendben is van így. A tanítóé 3338-886=2452 sorból áll, a kiértékelőé meg 886-ból."
      ],
      "metadata": {
        "id": "O3IG__QoJdoL"
      }
    },
    {
      "cell_type": "code",
      "source": [
        "features = df.loc[:,\"Age\":]\n",
        "df.loc[:,\"Age\":] # jellemzők az Age változó szerint"
      ],
      "metadata": {
        "colab": {
          "base_uri": "https://localhost:8080/",
          "height": 488
        },
        "id": "EaKcgyR7DH_6",
        "outputId": "011fe420-7db8-40e6-a3a0-53bfca591b7d"
      },
      "execution_count": null,
      "outputs": [
        {
          "output_type": "execute_result",
          "data": {
            "text/plain": [
              "       Age  HoursPerWeek  TotalHours       APM  SelectByHotkeys  \\\n",
              "0     27.0          10.0      3000.0  143.7180         0.003515   \n",
              "1     23.0          10.0      5000.0  129.2322         0.003304   \n",
              "2     30.0          10.0       200.0   69.9612         0.001101   \n",
              "3     19.0          20.0       400.0  107.6016         0.001034   \n",
              "4     32.0          10.0       500.0  122.8908         0.001136   \n",
              "...    ...           ...         ...       ...              ...   \n",
              "3335  20.0           8.0       400.0  158.1390         0.013829   \n",
              "3336  16.0          56.0      1500.0  186.1320         0.006951   \n",
              "3337  21.0           8.0       100.0  121.6992         0.002956   \n",
              "3338  20.0          28.0       400.0  134.2848         0.005424   \n",
              "3339  22.0           6.0       400.0   88.8246         0.000844   \n",
              "\n",
              "      AssignToHotkeys  UniqueHotkeys  MinimapAttacks  MinimapRightClicks  \\\n",
              "0            0.000220              7        0.000110            0.000392   \n",
              "1            0.000259              4        0.000294            0.000432   \n",
              "2            0.000336              4        0.000294            0.000461   \n",
              "3            0.000213              1        0.000053            0.000543   \n",
              "4            0.000327              2        0.000000            0.001329   \n",
              "...               ...            ...             ...                 ...   \n",
              "3335         0.000504              7        0.000217            0.000313   \n",
              "3336         0.000360              6        0.000083            0.000166   \n",
              "3337         0.000241              8        0.000055            0.000208   \n",
              "3338         0.000182              5        0.000000            0.000480   \n",
              "3339         0.000108              2        0.000000            0.000341   \n",
              "\n",
              "      NumberOfPACs  GapBetweenPACs  ActionLatency  ActionsInPAC  \\\n",
              "0         0.004849         32.6677        40.8673        4.7508   \n",
              "1         0.004307         32.9194        42.3454        4.8434   \n",
              "2         0.002926         44.6475        75.3548        4.0430   \n",
              "3         0.003783         29.2203        53.7352        4.9155   \n",
              "4         0.002368         22.6885        62.0813        9.3740   \n",
              "...            ...             ...            ...           ...   \n",
              "3335      0.003583         36.3990        66.2718        4.5097   \n",
              "3336      0.005414         22.8615        34.7417        4.9309   \n",
              "3337      0.003690         35.5833        57.9585        5.4154   \n",
              "3338      0.003205         18.2927        62.4615        6.0202   \n",
              "3339      0.003099         45.1512        63.4435        5.1913   \n",
              "\n",
              "      TotalMapExplored  WorkersMade  UniqueUnitsMade  ComplexUnitsMade  \\\n",
              "0                   28     0.001397                6               0.0   \n",
              "1                   22     0.001193                5               0.0   \n",
              "2                   22     0.000745                6               0.0   \n",
              "3                   19     0.000426                7               0.0   \n",
              "4                   15     0.001174                4               0.0   \n",
              "...                ...          ...              ...               ...   \n",
              "3335                30     0.001035                7               0.0   \n",
              "3336                38     0.001343                7               0.0   \n",
              "3337                23     0.002014                7               0.0   \n",
              "3338                18     0.000934                5               0.0   \n",
              "3339                20     0.000476                8               0.0   \n",
              "\n",
              "      ComplexAbilitiesUsed  \n",
              "0                 0.000000  \n",
              "1                 0.000208  \n",
              "2                 0.000189  \n",
              "3                 0.000384  \n",
              "4                 0.000019  \n",
              "...                    ...  \n",
              "3335              0.000287  \n",
              "3336              0.000388  \n",
              "3337              0.000000  \n",
              "3338              0.000000  \n",
              "3339              0.000054  \n",
              "\n",
              "[3338 rows x 18 columns]"
            ],
            "text/html": [
              "\n",
              "  <div id=\"df-f1a8ab43-e467-4604-ab6f-e7f3a5f02d8f\">\n",
              "    <div class=\"colab-df-container\">\n",
              "      <div>\n",
              "<style scoped>\n",
              "    .dataframe tbody tr th:only-of-type {\n",
              "        vertical-align: middle;\n",
              "    }\n",
              "\n",
              "    .dataframe tbody tr th {\n",
              "        vertical-align: top;\n",
              "    }\n",
              "\n",
              "    .dataframe thead th {\n",
              "        text-align: right;\n",
              "    }\n",
              "</style>\n",
              "<table border=\"1\" class=\"dataframe\">\n",
              "  <thead>\n",
              "    <tr style=\"text-align: right;\">\n",
              "      <th></th>\n",
              "      <th>Age</th>\n",
              "      <th>HoursPerWeek</th>\n",
              "      <th>TotalHours</th>\n",
              "      <th>APM</th>\n",
              "      <th>SelectByHotkeys</th>\n",
              "      <th>AssignToHotkeys</th>\n",
              "      <th>UniqueHotkeys</th>\n",
              "      <th>MinimapAttacks</th>\n",
              "      <th>MinimapRightClicks</th>\n",
              "      <th>NumberOfPACs</th>\n",
              "      <th>GapBetweenPACs</th>\n",
              "      <th>ActionLatency</th>\n",
              "      <th>ActionsInPAC</th>\n",
              "      <th>TotalMapExplored</th>\n",
              "      <th>WorkersMade</th>\n",
              "      <th>UniqueUnitsMade</th>\n",
              "      <th>ComplexUnitsMade</th>\n",
              "      <th>ComplexAbilitiesUsed</th>\n",
              "    </tr>\n",
              "  </thead>\n",
              "  <tbody>\n",
              "    <tr>\n",
              "      <th>0</th>\n",
              "      <td>27.0</td>\n",
              "      <td>10.0</td>\n",
              "      <td>3000.0</td>\n",
              "      <td>143.7180</td>\n",
              "      <td>0.003515</td>\n",
              "      <td>0.000220</td>\n",
              "      <td>7</td>\n",
              "      <td>0.000110</td>\n",
              "      <td>0.000392</td>\n",
              "      <td>0.004849</td>\n",
              "      <td>32.6677</td>\n",
              "      <td>40.8673</td>\n",
              "      <td>4.7508</td>\n",
              "      <td>28</td>\n",
              "      <td>0.001397</td>\n",
              "      <td>6</td>\n",
              "      <td>0.0</td>\n",
              "      <td>0.000000</td>\n",
              "    </tr>\n",
              "    <tr>\n",
              "      <th>1</th>\n",
              "      <td>23.0</td>\n",
              "      <td>10.0</td>\n",
              "      <td>5000.0</td>\n",
              "      <td>129.2322</td>\n",
              "      <td>0.003304</td>\n",
              "      <td>0.000259</td>\n",
              "      <td>4</td>\n",
              "      <td>0.000294</td>\n",
              "      <td>0.000432</td>\n",
              "      <td>0.004307</td>\n",
              "      <td>32.9194</td>\n",
              "      <td>42.3454</td>\n",
              "      <td>4.8434</td>\n",
              "      <td>22</td>\n",
              "      <td>0.001193</td>\n",
              "      <td>5</td>\n",
              "      <td>0.0</td>\n",
              "      <td>0.000208</td>\n",
              "    </tr>\n",
              "    <tr>\n",
              "      <th>2</th>\n",
              "      <td>30.0</td>\n",
              "      <td>10.0</td>\n",
              "      <td>200.0</td>\n",
              "      <td>69.9612</td>\n",
              "      <td>0.001101</td>\n",
              "      <td>0.000336</td>\n",
              "      <td>4</td>\n",
              "      <td>0.000294</td>\n",
              "      <td>0.000461</td>\n",
              "      <td>0.002926</td>\n",
              "      <td>44.6475</td>\n",
              "      <td>75.3548</td>\n",
              "      <td>4.0430</td>\n",
              "      <td>22</td>\n",
              "      <td>0.000745</td>\n",
              "      <td>6</td>\n",
              "      <td>0.0</td>\n",
              "      <td>0.000189</td>\n",
              "    </tr>\n",
              "    <tr>\n",
              "      <th>3</th>\n",
              "      <td>19.0</td>\n",
              "      <td>20.0</td>\n",
              "      <td>400.0</td>\n",
              "      <td>107.6016</td>\n",
              "      <td>0.001034</td>\n",
              "      <td>0.000213</td>\n",
              "      <td>1</td>\n",
              "      <td>0.000053</td>\n",
              "      <td>0.000543</td>\n",
              "      <td>0.003783</td>\n",
              "      <td>29.2203</td>\n",
              "      <td>53.7352</td>\n",
              "      <td>4.9155</td>\n",
              "      <td>19</td>\n",
              "      <td>0.000426</td>\n",
              "      <td>7</td>\n",
              "      <td>0.0</td>\n",
              "      <td>0.000384</td>\n",
              "    </tr>\n",
              "    <tr>\n",
              "      <th>4</th>\n",
              "      <td>32.0</td>\n",
              "      <td>10.0</td>\n",
              "      <td>500.0</td>\n",
              "      <td>122.8908</td>\n",
              "      <td>0.001136</td>\n",
              "      <td>0.000327</td>\n",
              "      <td>2</td>\n",
              "      <td>0.000000</td>\n",
              "      <td>0.001329</td>\n",
              "      <td>0.002368</td>\n",
              "      <td>22.6885</td>\n",
              "      <td>62.0813</td>\n",
              "      <td>9.3740</td>\n",
              "      <td>15</td>\n",
              "      <td>0.001174</td>\n",
              "      <td>4</td>\n",
              "      <td>0.0</td>\n",
              "      <td>0.000019</td>\n",
              "    </tr>\n",
              "    <tr>\n",
              "      <th>...</th>\n",
              "      <td>...</td>\n",
              "      <td>...</td>\n",
              "      <td>...</td>\n",
              "      <td>...</td>\n",
              "      <td>...</td>\n",
              "      <td>...</td>\n",
              "      <td>...</td>\n",
              "      <td>...</td>\n",
              "      <td>...</td>\n",
              "      <td>...</td>\n",
              "      <td>...</td>\n",
              "      <td>...</td>\n",
              "      <td>...</td>\n",
              "      <td>...</td>\n",
              "      <td>...</td>\n",
              "      <td>...</td>\n",
              "      <td>...</td>\n",
              "      <td>...</td>\n",
              "    </tr>\n",
              "    <tr>\n",
              "      <th>3335</th>\n",
              "      <td>20.0</td>\n",
              "      <td>8.0</td>\n",
              "      <td>400.0</td>\n",
              "      <td>158.1390</td>\n",
              "      <td>0.013829</td>\n",
              "      <td>0.000504</td>\n",
              "      <td>7</td>\n",
              "      <td>0.000217</td>\n",
              "      <td>0.000313</td>\n",
              "      <td>0.003583</td>\n",
              "      <td>36.3990</td>\n",
              "      <td>66.2718</td>\n",
              "      <td>4.5097</td>\n",
              "      <td>30</td>\n",
              "      <td>0.001035</td>\n",
              "      <td>7</td>\n",
              "      <td>0.0</td>\n",
              "      <td>0.000287</td>\n",
              "    </tr>\n",
              "    <tr>\n",
              "      <th>3336</th>\n",
              "      <td>16.0</td>\n",
              "      <td>56.0</td>\n",
              "      <td>1500.0</td>\n",
              "      <td>186.1320</td>\n",
              "      <td>0.006951</td>\n",
              "      <td>0.000360</td>\n",
              "      <td>6</td>\n",
              "      <td>0.000083</td>\n",
              "      <td>0.000166</td>\n",
              "      <td>0.005414</td>\n",
              "      <td>22.8615</td>\n",
              "      <td>34.7417</td>\n",
              "      <td>4.9309</td>\n",
              "      <td>38</td>\n",
              "      <td>0.001343</td>\n",
              "      <td>7</td>\n",
              "      <td>0.0</td>\n",
              "      <td>0.000388</td>\n",
              "    </tr>\n",
              "    <tr>\n",
              "      <th>3337</th>\n",
              "      <td>21.0</td>\n",
              "      <td>8.0</td>\n",
              "      <td>100.0</td>\n",
              "      <td>121.6992</td>\n",
              "      <td>0.002956</td>\n",
              "      <td>0.000241</td>\n",
              "      <td>8</td>\n",
              "      <td>0.000055</td>\n",
              "      <td>0.000208</td>\n",
              "      <td>0.003690</td>\n",
              "      <td>35.5833</td>\n",
              "      <td>57.9585</td>\n",
              "      <td>5.4154</td>\n",
              "      <td>23</td>\n",
              "      <td>0.002014</td>\n",
              "      <td>7</td>\n",
              "      <td>0.0</td>\n",
              "      <td>0.000000</td>\n",
              "    </tr>\n",
              "    <tr>\n",
              "      <th>3338</th>\n",
              "      <td>20.0</td>\n",
              "      <td>28.0</td>\n",
              "      <td>400.0</td>\n",
              "      <td>134.2848</td>\n",
              "      <td>0.005424</td>\n",
              "      <td>0.000182</td>\n",
              "      <td>5</td>\n",
              "      <td>0.000000</td>\n",
              "      <td>0.000480</td>\n",
              "      <td>0.003205</td>\n",
              "      <td>18.2927</td>\n",
              "      <td>62.4615</td>\n",
              "      <td>6.0202</td>\n",
              "      <td>18</td>\n",
              "      <td>0.000934</td>\n",
              "      <td>5</td>\n",
              "      <td>0.0</td>\n",
              "      <td>0.000000</td>\n",
              "    </tr>\n",
              "    <tr>\n",
              "      <th>3339</th>\n",
              "      <td>22.0</td>\n",
              "      <td>6.0</td>\n",
              "      <td>400.0</td>\n",
              "      <td>88.8246</td>\n",
              "      <td>0.000844</td>\n",
              "      <td>0.000108</td>\n",
              "      <td>2</td>\n",
              "      <td>0.000000</td>\n",
              "      <td>0.000341</td>\n",
              "      <td>0.003099</td>\n",
              "      <td>45.1512</td>\n",
              "      <td>63.4435</td>\n",
              "      <td>5.1913</td>\n",
              "      <td>20</td>\n",
              "      <td>0.000476</td>\n",
              "      <td>8</td>\n",
              "      <td>0.0</td>\n",
              "      <td>0.000054</td>\n",
              "    </tr>\n",
              "  </tbody>\n",
              "</table>\n",
              "<p>3338 rows × 18 columns</p>\n",
              "</div>\n",
              "      <button class=\"colab-df-convert\" onclick=\"convertToInteractive('df-f1a8ab43-e467-4604-ab6f-e7f3a5f02d8f')\"\n",
              "              title=\"Convert this dataframe to an interactive table.\"\n",
              "              style=\"display:none;\">\n",
              "        \n",
              "  <svg xmlns=\"http://www.w3.org/2000/svg\" height=\"24px\"viewBox=\"0 0 24 24\"\n",
              "       width=\"24px\">\n",
              "    <path d=\"M0 0h24v24H0V0z\" fill=\"none\"/>\n",
              "    <path d=\"M18.56 5.44l.94 2.06.94-2.06 2.06-.94-2.06-.94-.94-2.06-.94 2.06-2.06.94zm-11 1L8.5 8.5l.94-2.06 2.06-.94-2.06-.94L8.5 2.5l-.94 2.06-2.06.94zm10 10l.94 2.06.94-2.06 2.06-.94-2.06-.94-.94-2.06-.94 2.06-2.06.94z\"/><path d=\"M17.41 7.96l-1.37-1.37c-.4-.4-.92-.59-1.43-.59-.52 0-1.04.2-1.43.59L10.3 9.45l-7.72 7.72c-.78.78-.78 2.05 0 2.83L4 21.41c.39.39.9.59 1.41.59.51 0 1.02-.2 1.41-.59l7.78-7.78 2.81-2.81c.8-.78.8-2.07 0-2.86zM5.41 20L4 18.59l7.72-7.72 1.47 1.35L5.41 20z\"/>\n",
              "  </svg>\n",
              "      </button>\n",
              "      \n",
              "  <style>\n",
              "    .colab-df-container {\n",
              "      display:flex;\n",
              "      flex-wrap:wrap;\n",
              "      gap: 12px;\n",
              "    }\n",
              "\n",
              "    .colab-df-convert {\n",
              "      background-color: #E8F0FE;\n",
              "      border: none;\n",
              "      border-radius: 50%;\n",
              "      cursor: pointer;\n",
              "      display: none;\n",
              "      fill: #1967D2;\n",
              "      height: 32px;\n",
              "      padding: 0 0 0 0;\n",
              "      width: 32px;\n",
              "    }\n",
              "\n",
              "    .colab-df-convert:hover {\n",
              "      background-color: #E2EBFA;\n",
              "      box-shadow: 0px 1px 2px rgba(60, 64, 67, 0.3), 0px 1px 3px 1px rgba(60, 64, 67, 0.15);\n",
              "      fill: #174EA6;\n",
              "    }\n",
              "\n",
              "    [theme=dark] .colab-df-convert {\n",
              "      background-color: #3B4455;\n",
              "      fill: #D2E3FC;\n",
              "    }\n",
              "\n",
              "    [theme=dark] .colab-df-convert:hover {\n",
              "      background-color: #434B5C;\n",
              "      box-shadow: 0px 1px 3px 1px rgba(0, 0, 0, 0.15);\n",
              "      filter: drop-shadow(0px 1px 2px rgba(0, 0, 0, 0.3));\n",
              "      fill: #FFFFFF;\n",
              "    }\n",
              "  </style>\n",
              "\n",
              "      <script>\n",
              "        const buttonEl =\n",
              "          document.querySelector('#df-f1a8ab43-e467-4604-ab6f-e7f3a5f02d8f button.colab-df-convert');\n",
              "        buttonEl.style.display =\n",
              "          google.colab.kernel.accessAllowed ? 'block' : 'none';\n",
              "\n",
              "        async function convertToInteractive(key) {\n",
              "          const element = document.querySelector('#df-f1a8ab43-e467-4604-ab6f-e7f3a5f02d8f');\n",
              "          const dataTable =\n",
              "            await google.colab.kernel.invokeFunction('convertToInteractive',\n",
              "                                                     [key], {});\n",
              "          if (!dataTable) return;\n",
              "\n",
              "          const docLinkHtml = 'Like what you see? Visit the ' +\n",
              "            '<a target=\"_blank\" href=https://colab.research.google.com/notebooks/data_table.ipynb>data table notebook</a>'\n",
              "            + ' to learn more about interactive tables.';\n",
              "          element.innerHTML = '';\n",
              "          dataTable['output_type'] = 'display_data';\n",
              "          await google.colab.output.renderOutput(dataTable, element);\n",
              "          const docLink = document.createElement('div');\n",
              "          docLink.innerHTML = docLinkHtml;\n",
              "          element.appendChild(docLink);\n",
              "        }\n",
              "      </script>\n",
              "    </div>\n",
              "  </div>\n",
              "  "
            ]
          },
          "metadata": {},
          "execution_count": 44
        }
      ]
    },
    {
      "cell_type": "code",
      "source": [
        "# szétválasztjuk a tanító- és teszthalmazokat, különvéve a jellemzőket és az osztálycímkét\n",
        "trainFeatures = df[df.GameID <= 7000].loc[:,\"Age\":] # A 7000-nél kisebb egyenlőek Age szerint, tanító adatbázis része\n",
        "trainLabels = df[df.GameID <= 7000].LeagueIndex # A 7000-nél kisebb egyenlőek osztálycímke(LeagueIndex) szerint, tanító adatbázis része\n",
        "testFeatures = df[df.GameID > 7000].loc[:,\"Age\":] # A 7000-nél nagyobbak Age szerint a kiértékelő adatbázison\n",
        "testLabels =  df[df.GameID > 7000].LeagueIndex # A 7000-nél nagyobbak a célváltozó szerint a kiértékelő adatbázison"
      ],
      "metadata": {
        "id": "suus-h0aDL-i"
      },
      "execution_count": null,
      "outputs": []
    },
    {
      "cell_type": "code",
      "source": [
        "from sklearn.tree import DecisionTreeRegressor\n",
        "\n",
        "dt = DecisionTreeRegressor(min_samples_leaf=50) #DecisionTreeRegressor (azaz döntési fa regresszióra) használata\n",
        "dt.fit(trainFeatures, trainLabels) # tanítás a tanító adatbázison\n",
        "prediction = dt.predict(testFeatures) # predikció a kiértékelő adatbázison"
      ],
      "metadata": {
        "id": "escl7QYqDw-R"
      },
      "execution_count": null,
      "outputs": []
    },
    {
      "cell_type": "code",
      "source": [
        "from sklearn.metrics import mean_squared_error # MSE (RMSE végső gyökvonás nélkül)\n",
        "mean_squared_error(prediction, testLabels) #MSE meghatározása"
      ],
      "metadata": {
        "colab": {
          "base_uri": "https://localhost:8080/"
        },
        "id": "jzYBtbJMDw3U",
        "outputId": "d332def7-2ef3-4fe3-807b-169f36ae802c"
      },
      "execution_count": null,
      "outputs": [
        {
          "output_type": "execute_result",
          "data": {
            "text/plain": [
              "1.0257011521646264"
            ]
          },
          "metadata": {},
          "execution_count": 21
        }
      ]
    },
    {
      "cell_type": "markdown",
      "source": [
        "És megkaptuk a Mean Squared Errort, 1,0257. Minél alacsonyabb ez az érték, annál jobb."
      ],
      "metadata": {
        "id": "iiCQ7M2mE48i"
      }
    },
    {
      "cell_type": "code",
      "source": [
        "from sklearn.dummy import DummyRegressor\n",
        "dummy = DummyRegressor(strategy='mean') # tanító adatbázis címkéinek átlaga lesz mindig a predikció\n",
        "dummy.fit(trainFeatures, trainLabels)\n",
        "mean_squared_error(dummy.predict(testFeatures), testLabels)"
      ],
      "metadata": {
        "colab": {
          "base_uri": "https://localhost:8080/"
        },
        "id": "EPz508ThDwvR",
        "outputId": "21eb0630-1695-484c-f003-13ebf7511d3a"
      },
      "execution_count": null,
      "outputs": [
        {
          "output_type": "execute_result",
          "data": {
            "text/plain": [
              "2.009929291790602"
            ]
          },
          "metadata": {},
          "execution_count": 19
        }
      ]
    },
    {
      "cell_type": "markdown",
      "source": [
        "Ez pedig a baseline eredménye, amit -mivel regressziós feladatról van szó- DummyRegressor-ral kaptam meg. Itt a hiba 2 felett van és mondtam, hogy akkor lesz minél jobb az érték, minél kisebb. A korábban kapott 1,0257 majdnem feleannyi, mint a baseline 2,0099-es errorja, ami nekünk jó hír.:)"
      ],
      "metadata": {
        "id": "3SG6RMJNKRpo"
      }
    },
    {
      "cell_type": "markdown",
      "metadata": {
        "id": "4tEZiyAzkurk"
      },
      "source": [
        "# 2. feladat\n",
        "Melyik jellemző a legfontosabb a regressziós modellben?\n",
        "\n",
        "Építs erre az egy jellemzőre egy döntési modellt (akár kézzel, akár gépi tanulva)!"
      ]
    },
    {
      "cell_type": "code",
      "metadata": {
        "id": "wVruapX_lg2M",
        "colab": {
          "base_uri": "https://localhost:8080/"
        },
        "outputId": "4837626a-fe12-4d68-977f-4ec5a897a284"
      },
      "source": [
        "dt = DecisionTreeRegressor(max_depth=1)\n",
        "\n",
        "dt.fit(trainFeatures, trainLabels) # tanítás a tanító adatbázison"
      ],
      "execution_count": null,
      "outputs": [
        {
          "output_type": "execute_result",
          "data": {
            "text/plain": [
              "DecisionTreeRegressor(max_depth=1)"
            ]
          },
          "metadata": {},
          "execution_count": 22
        }
      ]
    },
    {
      "cell_type": "code",
      "source": [
        "root = dt.tree_.feature[0] # gyökércsúcsban lévő feature indexe\n",
        "trainFeatures.columns[root] # a legfontosabb jellemző kinyerése"
      ],
      "metadata": {
        "colab": {
          "base_uri": "https://localhost:8080/",
          "height": 35
        },
        "id": "wBLR8BkNFN8y",
        "outputId": "80488570-35eb-48d3-913e-6fa6d5b7fdd6"
      },
      "execution_count": null,
      "outputs": [
        {
          "output_type": "execute_result",
          "data": {
            "text/plain": [
              "'ActionLatency'"
            ],
            "application/vnd.google.colaboratory.intrinsic+json": {
              "type": "string"
            }
          },
          "metadata": {},
          "execution_count": 23
        }
      ]
    },
    {
      "cell_type": "markdown",
      "source": [
        "Az ActionLatency lesz a legfontosabb jellemző."
      ],
      "metadata": {
        "id": "9Ec48qN7I5hu"
      }
    },
    {
      "cell_type": "code",
      "source": [
        "prediction = dt.predict(testFeatures) # predikció a kiértékelő adathalmazon\n",
        "mean_squared_error(prediction, testLabels)"
      ],
      "metadata": {
        "colab": {
          "base_uri": "https://localhost:8080/"
        },
        "id": "L9BXklD2FP42",
        "outputId": "b4641864-adaa-4118-e71a-2455f232dfee"
      },
      "execution_count": null,
      "outputs": [
        {
          "output_type": "execute_result",
          "data": {
            "text/plain": [
              "1.458830846337093"
            ]
          },
          "metadata": {},
          "execution_count": 24
        }
      ]
    },
    {
      "cell_type": "markdown",
      "source": [
        "A döntési modellre kapott átlagos négyzetes hiba (MSE): 1,4588. Minél kisebb az érték, annál jobb, mivel hibát mérünk."
      ],
      "metadata": {
        "id": "5jD8aTy0FkyT"
      }
    },
    {
      "cell_type": "markdown",
      "source": [
        "# 3. feladat\n",
        "\n",
        "A jellemzők alapján csinálj egy 2D leképezést és ebben a térben jelenítsd meg az egyedeket. Az egyedekhez tartozó jelek színe legyen az életkor (tipp: használhatod a `cmap='Spectral'` argumentumot a plothoz)"
      ],
      "metadata": {
        "id": "y1DxQxPeE2ty"
      }
    },
    {
      "cell_type": "code",
      "source": [
        "### SVD dimenzió csökkentés:\n",
        "# ha 2D a cél, akkor a két legnagyobb sajátértékhez tartozó sajátvektorokat vegyük csak figyelembe\n",
        "# ezeket az oszlopokat fel tudjuk használni arra, hogy vizualizáljunk\n",
        "from sklearn.decomposition import TruncatedSVD\n",
        "\n",
        "svd = TruncatedSVD(n_components=2) # az első 2 komponenst tartjuk csak meg (2Dbe mappelünk)\n",
        "m2d = svd.fit_transform(features) # az adatbázison megcsinálja a leképezést\n",
        "m2d"
      ],
      "metadata": {
        "id": "NRGyuEfxE9qd",
        "colab": {
          "base_uri": "https://localhost:8080/"
        },
        "outputId": "b1f010c6-d40b-45ff-b4a6-dd468bd45bf6"
      },
      "execution_count": null,
      "outputs": [
        {
          "output_type": "execute_result",
          "data": {
            "text/plain": [
              "array([[3000.09635795,  153.83006405],\n",
              "       [5000.08722845,  139.55533942],\n",
              "       [ 200.06171505,  110.49274748],\n",
              "       ...,\n",
              "       [ 100.08668685,  143.20552252],\n",
              "       [ 400.09343758,  152.08053774],\n",
              "       [ 400.06954613,  119.57098179]])"
            ]
          },
          "metadata": {},
          "execution_count": 25
        }
      ]
    },
    {
      "cell_type": "code",
      "source": [
        "from sklearn.cluster import KMeans\n",
        "k=10\n",
        "kmeans = KMeans(n_clusters=k).fit(m2d)"
      ],
      "metadata": {
        "id": "SyEF8r-4HXSG"
      },
      "execution_count": null,
      "outputs": []
    },
    {
      "cell_type": "code",
      "source": [
        "kmeans.cluster_centers_"
      ],
      "metadata": {
        "colab": {
          "base_uri": "https://localhost:8080/"
        },
        "id": "9WBNG7RoHlDW",
        "outputId": "2c07de23-b377-4d55-aeec-db73d873a502"
      },
      "execution_count": null,
      "outputs": [
        {
          "output_type": "execute_result",
          "data": {
            "text/plain": [
              "array([[ 1.94729815e+02,  1.27561916e+02],\n",
              "       [ 9.99999985e+05, -3.35265711e+02],\n",
              "       [ 2.50001481e+04,  2.20669197e+02],\n",
              "       [ 1.33768088e+03,  1.58945403e+02],\n",
              "       [ 8.27333820e+02,  1.50634048e+02],\n",
              "       [ 4.80010665e+03,  1.69965169e+02],\n",
              "       [ 1.90001282e+04,  1.98679023e+02],\n",
              "       [ 9.75342579e+03,  1.49216672e+02],\n",
              "       [ 2.17999974e+03,  1.67403834e+02],\n",
              "       [ 5.01953811e+02,  1.39682597e+02]])"
            ]
          },
          "metadata": {},
          "execution_count": 29
        }
      ]
    },
    {
      "cell_type": "code",
      "source": [
        "import matplotlib.pyplot as plt\n",
        "plt.figure(figsize=(15,15))       # beállítjuk a kép méretét, a default érték pici\n",
        "plt.scatter( m2d[:,0],   # minden pont egy film, aminek x koordinátája az SVD leképezés első komponense\n",
        "             m2d[:,1],   # y koordinátája az SVD leképezés második komponense (2D)\n",
        "             c=df[\"Age\"], cmap='Spectral') # színe pedig adott, hogy az életkor alapján legyen beállítva"
      ],
      "metadata": {
        "colab": {
          "base_uri": "https://localhost:8080/",
          "height": 893
        },
        "id": "dBhMn6aSHojH",
        "outputId": "33cf0edb-2bff-4651-af19-1a79d72942df"
      },
      "execution_count": null,
      "outputs": [
        {
          "output_type": "execute_result",
          "data": {
            "text/plain": [
              "<matplotlib.collections.PathCollection at 0x7f6f7bf10340>"
            ]
          },
          "metadata": {},
          "execution_count": 36
        },
        {
          "output_type": "display_data",
          "data": {
            "text/plain": [
              "<Figure size 1080x1080 with 1 Axes>"
            ],
            "image/png": "[encoded data removed]"
          },
          "metadata": {
            "needs_background": "light"
          }
        }
      ]
    },
    {
      "cell_type": "markdown",
      "source": [
        "Vagy tényleg ennyiből áll a plot, mert leredukáltuk 2D-re, vagy ami a másik (talán valószínűbb) opció: valami érezhetően nincs rendben, csak nem tudok rájönni, mi...:D"
      ],
      "metadata": {
        "id": "ZwCuMDlDIIlf"
      }
    }
  ]
}