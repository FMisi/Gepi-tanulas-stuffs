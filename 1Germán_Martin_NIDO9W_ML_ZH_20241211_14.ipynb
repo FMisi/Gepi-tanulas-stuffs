{
  "cells": [
    {
      "cell_type": "markdown",
      "metadata": {
        "id": "5IkIQSPQFQxo"
      },
      "source": [
        "# Zárthelyi dolgozat\n",
        "\n",
        "* Másold le a dokumentumot a megszokott módon és nevezd át, úgy, hogy az\n",
        "tartalmazza a nevedet és a Neptun-kódodat (Vezetknév_Keresztnév-NEPTUNKÓD)!\n",
        "Miután átnevezted, oszd meg a dokumentumot velem (`rifarkas@gmail.com`) szerkesztési joggal!\n",
        "\n",
        "* A zárthelyi megírásához használhattok bármilyen segédanyagot, kivéve egymást. Se online, se offline!\n",
        "* Csak az órai notebookokban használt módszereket (library, osztály, függvény, stb) fogadom el a megoldásban!\n",
        "* Kérlek benneteket, hogy ahol csak lehetséges, legjobb tudomásotok szerint kommentezzétek fel a kódot, illetve a feladatokra válaszoljatok szövegesen is (1 mondat).\n",
        "\n",
        "\n"
      ]
    },
    {
      "cell_type": "markdown",
      "metadata": {
        "id": "4PbIjmkfLfdl"
      },
      "source": [
        "# 1/A feladat\n",
        "\n",
        "Készítsd elő az alábbi adatbázist, hogy gépi tanulási kísérletek végrehajtására alkalmas legyen!\n",
        "A célváltozó az utolsó oszlop, a `stroke`.\n",
        "\n",
        " https://raw.githubusercontent.com/levotvos/datascience_2024/refs/heads/main/healthcare-dataset-stroke-data.csv"
      ]
    },
    {
      "cell_type": "code",
      "execution_count": null,
      "metadata": {
        "colab": {
          "base_uri": "https://localhost:8080/"
        },
        "id": "5cYjpSJs6naF",
        "outputId": "e25d2dd1-a05c-45ec-ebf7-613ad601eafe"
      },
      "outputs": [
        {
          "name": "stdout",
          "output_type": "stream",
          "text": [
            "      id   age  hypertension  heart_disease  avg_glucose_level   bmi  stroke  \\\n",
            "0   9046  67.0             0              1             228.69  36.6       1   \n",
            "2  31112  80.0             0              1             105.92  32.5       1   \n",
            "3  60182  49.0             0              0             171.23  34.4       1   \n",
            "4   1665  79.0             1              0             174.12  24.0       1   \n",
            "5  56669  81.0             0              0             186.21  29.0       1   \n",
            "\n",
            "   gender_Male  gender_Other  ever_married_Yes  work_type_Never_worked  \\\n",
            "0         True         False              True                   False   \n",
            "2         True         False              True                   False   \n",
            "3        False         False              True                   False   \n",
            "4        False         False              True                   False   \n",
            "5         True         False              True                   False   \n",
            "\n",
            "   work_type_Private  work_type_Self-employed  work_type_children  \\\n",
            "0               True                    False               False   \n",
            "2               True                    False               False   \n",
            "3               True                    False               False   \n",
            "4              False                     True               False   \n",
            "5               True                    False               False   \n",
            "\n",
            "   Residence_type_Urban  smoking_status_formerly smoked  \\\n",
            "0                  True                            True   \n",
            "2                 False                           False   \n",
            "3                  True                           False   \n",
            "4                 False                           False   \n",
            "5                  True                            True   \n",
            "\n",
            "   smoking_status_never smoked  smoking_status_smokes  \n",
            "0                        False                  False  \n",
            "2                         True                  False  \n",
            "3                        False                   True  \n",
            "4                         True                  False  \n",
            "5                        False                  False  \n"
          ]
        }
      ],
      "source": [
        "import pandas as pd\n",
        "\n",
        "df = pd.read_csv('https://raw.githubusercontent.com/levotvos/datascience_2024/refs/heads/main/healthcare-dataset-stroke-data.csv')\n",
        "df = df.dropna()\n",
        "\n",
        "df = pd.get_dummies(df, columns=['gender', 'ever_married', 'work_type', 'Residence_type', 'smoking_status'], drop_first=True)\n",
        "X = df.drop(columns=['stroke'])\n",
        "y = df['stroke']\n",
        "\n",
        "print(df.head())\n"
      ]
    },
    {
      "cell_type": "markdown",
      "metadata": {
        "id": "Q0bPRQc44IPp"
      },
      "source": [
        "# 1/B feladat\n",
        "\n",
        "Azt szeretnénk minél jobban megjósolni, hogy sztrókot kaphat-e egy adott személy, bizonyos egészségügyi adatai alapján. Hajts végre gépi tanulási kísérletet legalább két különböző fajta modellel!\n",
        "\n",
        "*Az elsődleges szempont legyen számunkra, hogy inkább előnyben részesítsük azt, hogy ha sztrókot jóslunk, de mégsem áll fenn, minthogy egészségesnek mondjunk egy pácienst, úgy hogy sztrókot kaphat. Igyekezzünk azonban a minél jobb precizitás elérésére is, az egészségügyi költségek miatt.*"
      ]
    },
    {
      "cell_type": "code",
      "execution_count": null,
      "metadata": {
        "colab": {
          "base_uri": "https://localhost:8080/"
        },
        "id": "0k7dIEO66tcR",
        "outputId": "d45891a8-055d-4903-cd54-fee9a5b732a1"
      },
      "outputs": [
        {
          "name": "stdout",
          "output_type": "stream",
          "text": [
            "Logisztikus Regresszió (liblinear solver):\n",
            "[[965 445]\n",
            " [ 17  46]]\n",
            "              precision    recall  f1-score   support\n",
            "\n",
            "           0       0.98      0.68      0.81      1410\n",
            "           1       0.09      0.73      0.17        63\n",
            "\n",
            "    accuracy                           0.69      1473\n",
            "   macro avg       0.54      0.71      0.49      1473\n",
            "weighted avg       0.94      0.69      0.78      1473\n",
            "\n",
            "\n",
            "Döntési Fa:\n",
            "[[1058  352]\n",
            " [  27   36]]\n",
            "              precision    recall  f1-score   support\n",
            "\n",
            "           0       0.98      0.75      0.85      1410\n",
            "           1       0.09      0.57      0.16        63\n",
            "\n",
            "    accuracy                           0.74      1473\n",
            "   macro avg       0.53      0.66      0.50      1473\n",
            "weighted avg       0.94      0.74      0.82      1473\n",
            "\n",
            "\n",
            "F1-score (Logisztikus Regresszió): 0.17\n",
            "F1-score (Döntési Fa): 0.16\n"
          ]
        }
      ],
      "source": [
        "import numpy as np\n",
        "from sklearn.model_selection import train_test_split\n",
        "from sklearn.linear_model import LogisticRegression\n",
        "from sklearn.tree import DecisionTreeClassifier\n",
        "from sklearn.metrics import confusion_matrix, classification_report, f1_score\n",
        "from imblearn.under_sampling import NearMiss\n",
        "\n",
        "X_train, X_test, y_train, y_test = train_test_split(X, y, test_size=0.3, random_state=42, stratify=y)\n",
        "\n",
        "nm = NearMiss()\n",
        "X_train_resampled, y_train_resampled = nm.fit_resample(X_train, y_train)\n",
        "\n",
        "logreg = LogisticRegression(max_iter=5000, class_weight='balanced', solver='liblinear', random_state=42)\n",
        "logreg.fit(X_train_resampled, y_train_resampled)\n",
        "y_pred_logreg = logreg.predict(X_test)\n",
        "\n",
        "print(\"Logistic Regresszió (liblinear solver):\")\n",
        "print(confusion_matrix(y_test, y_pred_logreg))\n",
        "print(classification_report(y_test, y_pred_logreg))\n",
        "\n",
        "dtree = DecisionTreeClassifier(max_depth=7, class_weight='balanced', random_state=42)\n",
        "dtree.fit(X_train_resampled, y_train_resampled)\n",
        "y_pred_dtree = dtree.predict(X_test)\n",
        "\n",
        "print(\"\\nDöntési Fa:\")\n",
        "print(confusion_matrix(y_test, y_pred_dtree))\n",
        "print(classification_report(y_test, y_pred_dtree))\n",
        "\n",
        "f1_logreg = f1_score(y_test, y_pred_logreg)\n",
        "f1_dtree = f1_score(y_test, y_pred_dtree)\n",
        "\n",
        "print(f\"\\nF1-score (Logistic Regresszió): {f1_logreg:.2f}\")\n",
        "print(f\"F1-score (Döntési Fa): {f1_dtree:.2f}\")\n"
      ]
    },
    {
      "cell_type": "markdown",
      "metadata": {
        "id": "nHLU0QyvZJrP"
      },
      "source": [
        "# 1/C fealdat\n",
        "\n",
        "Melyik lett a legerősebb/leghasznosabb jellemző az 1/B feladatban használt modellek valamelyikének? (elég ha egy modellre megcsinálod)"
      ]
    },
    {
      "cell_type": "code",
      "execution_count": null,
      "metadata": {
        "colab": {
          "base_uri": "https://localhost:8080/",
          "height": 664
        },
        "id": "-GYSF4Yo6yk9",
        "outputId": "d9824e5f-26bc-4b8b-a498-a24905a0750d"
      },
      "outputs": [
        {
          "name": "stdout",
          "output_type": "stream",
          "text": [
            "Legerősebb jellemzők a Logistic Regresszióban:\n",
            "bmi: 0.1113\n",
            "hypertension: 0.0695\n",
            "age: 0.0428\n",
            "work_type_Private: 0.0385\n",
            "heart_disease: 0.0347\n",
            "ever_married_Yes: 0.0309\n",
            "work_type_children: 0.0293\n",
            "smoking_status_never smoked: 0.0287\n",
            "smoking_status_formerly smoked: 0.0147\n",
            "gender_Male: 0.0129\n"
          ]
        },
        {
          "data": {
            "image/png": "[encoded data removed]",
            "text/plain": [
              "<Figure size 640x480 with 1 Axes>"
            ]
          },
          "metadata": {},
          "output_type": "display_data"
        }
      ],
      "source": [
        "import numpy as np\n",
        "import matplotlib.pyplot as plt\n",
        "\n",
        "feature_importance = np.abs(logreg.coef_[0])\n",
        "\n",
        "sorted_idx = np.argsort(feature_importance)[::-1]\n",
        "\n",
        "feature_names = X.columns\n",
        "top_features = feature_names[sorted_idx]\n",
        "\n",
        "print(\"Legerősebb jellemzők a Logistic Regresszióban:\")\n",
        "for i in range(10):\n",
        "    print(f\"{top_features[i]}: {feature_importance[sorted_idx[i]]:.4f}\")\n",
        "\n",
        "plt.barh(top_features[:10], feature_importance[sorted_idx][:10])\n",
        "plt.xlabel('Jellemző fontosság')\n",
        "plt.title('Legerősebb jellemzők a Logistic Regresszióban')\n",
        "plt.show()"
      ]
    },
    {
      "cell_type": "markdown",
      "metadata": {
        "id": "Mgwra-Qs4jfp"
      },
      "source": [
        "# 2 feladat\n",
        "\n",
        "Hajts végre paraméter hangolást az 1/B feladatban használt modellek valamelyikén! El tudtál érni jobb eredményeket így, mint az 1/B-ben? (elég ha egy modellre megcsinálod)"
      ]
    },
    {
      "cell_type": "code",
      "execution_count": null,
      "metadata": {
        "colab": {
          "base_uri": "https://localhost:8080/"
        },
        "id": "Hpv2l6rG61uo",
        "outputId": "fa3d0b1c-7bda-4b38-f36e-1fd25d935ca9"
      },
      "outputs": [
        {
          "name": "stdout",
          "output_type": "stream",
          "text": [
            "Fitting 3 folds for each of 12 candidates, totalling 36 fits\n",
            "[CV 1/3] END C=0.001, max_iter=1000, solver=liblinear;, score=0.717 total time=   0.0s\n",
            "[CV 2/3] END C=0.001, max_iter=1000, solver=liblinear;, score=0.667 total time=   0.0s\n",
            "[CV 3/3] END C=0.001, max_iter=1000, solver=liblinear;, score=0.686 total time=   0.0s\n",
            "[CV 1/3] END C=0.001, max_iter=5000, solver=liblinear;, score=0.717 total time=   0.0s\n",
            "[CV 2/3] END C=0.001, max_iter=5000, solver=liblinear;, score=0.667 total time=   0.0s\n",
            "[CV 3/3] END C=0.001, max_iter=5000, solver=liblinear;, score=0.686 total time=   0.0s\n",
            "[CV 1/3] END C=0.01, max_iter=1000, solver=liblinear;, score=0.686 total time=   0.0s\n",
            "[CV 2/3] END C=0.01, max_iter=1000, solver=liblinear;, score=0.673 total time=   0.0s\n",
            "[CV 3/3] END C=0.01, max_iter=1000, solver=liblinear;, score=0.680 total time=   0.0s\n",
            "[CV 1/3] END C=0.01, max_iter=5000, solver=liblinear;, score=0.686 total time=   0.0s\n",
            "[CV 2/3] END C=0.01, max_iter=5000, solver=liblinear;, score=0.673 total time=   0.0s\n",
            "[CV 3/3] END C=0.01, max_iter=5000, solver=liblinear;, score=0.680 total time=   0.0s\n",
            "[CV 1/3] END C=0.1, max_iter=1000, solver=liblinear;, score=0.698 total time=   0.0s\n",
            "[CV 2/3] END C=0.1, max_iter=1000, solver=liblinear;, score=0.673 total time=   0.0s\n",
            "[CV 3/3] END C=0.1, max_iter=1000, solver=liblinear;, score=0.680 total time=   0.0s\n",
            "[CV 1/3] END C=0.1, max_iter=5000, solver=liblinear;, score=0.698 total time=   0.0s\n",
            "[CV 2/3] END C=0.1, max_iter=5000, solver=liblinear;, score=0.673 total time=   0.0s\n",
            "[CV 3/3] END C=0.1, max_iter=5000, solver=liblinear;, score=0.680 total time=   0.0s\n",
            "[CV 1/3] END C=1, max_iter=1000, solver=liblinear;, score=0.755 total time=   0.0s\n",
            "[CV 2/3] END C=1, max_iter=1000, solver=liblinear;, score=0.722 total time=   0.0s\n",
            "[CV 3/3] END C=1, max_iter=1000, solver=liblinear;, score=0.680 total time=   0.0s\n",
            "[CV 1/3] END C=1, max_iter=5000, solver=liblinear;, score=0.755 total time=   0.0s\n",
            "[CV 2/3] END C=1, max_iter=5000, solver=liblinear;, score=0.722 total time=   0.0s\n",
            "[CV 3/3] END C=1, max_iter=5000, solver=liblinear;, score=0.680 total time=   0.0s\n",
            "[CV 1/3] END C=10, max_iter=1000, solver=liblinear;, score=0.768 total time=   0.0s\n",
            "[CV 2/3] END C=10, max_iter=1000, solver=liblinear;, score=0.742 total time=   0.0s\n",
            "[CV 3/3] END C=10, max_iter=1000, solver=liblinear;, score=0.680 total time=   0.0s\n",
            "[CV 1/3] END C=10, max_iter=5000, solver=liblinear;, score=0.768 total time=   0.0s\n",
            "[CV 2/3] END C=10, max_iter=5000, solver=liblinear;, score=0.742 total time=   0.0s\n",
            "[CV 3/3] END C=10, max_iter=5000, solver=liblinear;, score=0.680 total time=   0.0s\n",
            "[CV 1/3] END C=100, max_iter=1000, solver=liblinear;, score=0.788 total time=   0.0s\n",
            "[CV 2/3] END C=100, max_iter=1000, solver=liblinear;, score=0.742 total time=   0.0s\n",
            "[CV 3/3] END C=100, max_iter=1000, solver=liblinear;, score=0.680 total time=   0.0s\n",
            "[CV 1/3] END C=100, max_iter=5000, solver=liblinear;, score=0.788 total time=   0.0s\n",
            "[CV 2/3] END C=100, max_iter=5000, solver=liblinear;, score=0.742 total time=   0.0s\n",
            "[CV 3/3] END C=100, max_iter=5000, solver=liblinear;, score=0.680 total time=   0.0s\n",
            "Legjobb paraméterek: {'C': 100, 'max_iter': 1000, 'solver': 'liblinear'}\n",
            "Legjobb pontszám (cross-validation): 0.7365861598671127\n",
            "\n",
            "Logisztikus Regresszió (hangolt paraméterek):\n",
            "[[965 445]\n",
            " [ 17  46]]\n",
            "              precision    recall  f1-score   support\n",
            "\n",
            "           0       0.98      0.68      0.81      1410\n",
            "           1       0.09      0.73      0.17        63\n",
            "\n",
            "    accuracy                           0.69      1473\n",
            "   macro avg       0.54      0.71      0.49      1473\n",
            "weighted avg       0.94      0.69      0.78      1473\n",
            "\n",
            "\n",
            "F1-score (Legjobb modell): 0.17\n"
          ]
        }
      ],
      "source": [
        "from sklearn.linear_model import LogisticRegression\n",
        "from sklearn.model_selection import GridSearchCV\n",
        "from sklearn.metrics import make_scorer\n",
        "\n",
        "parameters = {\n",
        "    'C': [0.001, 0.01, 0.1, 1, 10, 100],\n",
        "    'max_iter': [1000, 5000],\n",
        "    'solver': ['liblinear'],\n",
        "}\n",
        "\n",
        "logreg = LogisticRegression(class_weight='balanced', random_state=42)\n",
        "\n",
        "clf = GridSearchCV(logreg, parameters, cv=3, scoring=make_scorer(f1_score, pos_label=1), verbose=3)\n",
        "clf.fit(X_train_resampled, y_train_resampled)\n",
        "\n",
        "best_params = clf.best_params_\n",
        "best_score = clf.best_score_\n",
        "print(\"Legjobb paraméterek:\", best_params)\n",
        "print(\"Legjobb pontszám (cross-validation):\", best_score)\n",
        "\n",
        "y_pred_best = clf.predict(X_test)\n",
        "print(\"\\nLogisztikus Regresszió (hangolt paraméterek):\")\n",
        "print(confusion_matrix(y_test, y_pred_best))\n",
        "print(classification_report(y_test, y_pred_best))\n",
        "\n",
        "f1_best = f1_score(y_test, y_pred_best)\n",
        "print(f\"\\nF1-score (Legjobb modell): {f1_best:.2f}\")\n"
      ]
    },
    {
      "cell_type": "markdown",
      "metadata": {
        "id": "1EowkMVg7qn1"
      },
      "source": [
        "# 3/A feladat\n",
        "\n",
        "Listázd ki a negyedik (3-as indexű) szöveges értékeléshez (`Review Text`) 4 darab leghasonlóbb értékelést az adatbázisból!\n",
        "\n",
        "**Megjegyzés:** előfordulhat, hogy túlságosan nagy a jellemző mátrix mérete, így a tanításnál kifuthatsz a memóriából és/vagy nagyon sokáig fut a tanulás. Ha ilyenbe futnál bele, nézd át a jellemzőkinyerő osztály konstruktorának argumentumait, hogy kisebb jellemző mátrixot kapj.\n",
        "\n",
        "https://raw.githubusercontent.com/levotvos/datascience_2024/refs/heads/main/clothing_reviews.csv"
      ]
    },
    {
      "cell_type": "code",
      "execution_count": null,
      "metadata": {
        "colab": {
          "base_uri": "https://localhost:8080/"
        },
        "id": "3DuwmHny8D6v",
        "outputId": "bc46ed41-b964-41a8-bd8b-c2d4cd244471"
      },
      "outputs": [
        {
          "name": "stdout",
          "output_type": "stream",
          "text": [
            "Az 3. értékeléshez leginkább hasonló szövegek:\n",
            "1. Very much in love with this ethereal, delicate dress. the silk is very light and slightly clingy, so take caution when wearing. the belt can be adjusted as modeled or you can get creative as there is length the play with. the liner finishes above the knee on me in medium petite. those of slender torsos and small busts may want to size down, otherwise tts. for reference i am 5'3\" 36dd 140#\n",
            "2. Nice quality, details, and i like the looser cut (works well on this blouse).\n",
            "3. I love it! it's cute and short and shows off my legs. the material is thick and great quality, so great for the fall. the color is great for florida!!! brightness year round. it's fits perfectly. i purchased a 14 and it fits like a glove. i am going to wear with my booties and a jacket like the model. hey it works!!!\n",
            "4. Wasn't too sure about this jacket when i got it in the mail - seemed a little boxy on - maybe a smaller size would've worked better but i want to be able to layer. however, i'm keeping it because it's versatile, i love the contrast of the front/back and the buttons on the sleeve (which actually button and un-button, meaning they aren't just for show and the sleeves can be easily rolled up). a great basic jacket with some neat details.\n"
          ]
        }
      ],
      "source": [
        "from gensim.models import Word2Vec\n",
        "import re\n",
        "\n",
        "url = \"https://raw.githubusercontent.com/levotvos/datascience_2024/refs/heads/main/clothing_reviews.csv\"\n",
        "df = pd.read_csv(url)\n",
        "\n",
        "df = df.dropna(subset=[\"Review Text\"])\n",
        "\n",
        "def preprocess_text(text):\n",
        "    text = text.lower()\n",
        "    text = re.sub(r'[^a-z\\s]', '', text)\n",
        "    return text\n",
        "\n",
        "df['cleaned_text'] = df['Review Text'].apply(preprocess_text)\n",
        "\n",
        "tokenized_texts = df['cleaned_text'].apply(str.split)\n",
        "\n",
        "word2vec_model = Word2Vec(sentences=tokenized_texts, vector_size=100, window=5, min_count=1, workers=4)\n",
        "\n",
        "def compute_doc_vector(tokens, model):\n",
        "    vectors = [model.wv[word] for word in tokens if word in model.wv]\n",
        "    if len(vectors) == 0:\n",
        "        return np.zeros(model.vector_size)\n",
        "    return np.mean(vectors, axis=0)\n",
        "\n",
        "df['doc_vector'] = tokenized_texts.apply(lambda x: compute_doc_vector(x, word2vec_model))\n",
        "\n",
        "def cosine_similarity_manual(v1, v2):\n",
        "    dot_product = np.dot(v1, v2)\n",
        "    norm_v1 = np.linalg.norm(v1)\n",
        "    norm_v2 = np.linalg.norm(v2)\n",
        "    if norm_v1 == 0 or norm_v2 == 0:\n",
        "        return 0\n",
        "    return dot_product / (norm_v1 * norm_v2)\n",
        "\n",
        "query_index = 3\n",
        "query_vector = df.iloc[query_index]['doc_vector']\n",
        "\n",
        "df['similarity'] = df['doc_vector'].apply(lambda x: cosine_similarity_manual(query_vector, x))\n",
        "\n",
        "similar_indices = df.sort_values(by='similarity', ascending=False).index[1:5]\n",
        "similar_texts = df.iloc[similar_indices][\"Review Text\"]\n",
        "\n",
        "print(f\"Az {query_index}. értékeléshez leginkább hasonló szövegek:\")\n",
        "for i, text in enumerate(similar_texts, start=1):\n",
        "    print(f\"{i}. {text}\")\n"
      ]
    },
    {
      "cell_type": "markdown",
      "metadata": {
        "id": "OK-boWaUpgy9"
      },
      "source": [
        "# 3/B feladat\n",
        "\n",
        "Old meg a 3/A feladát úgy, hogy dokumentum beágyazási vektorokat használsz!\n",
        "Egy dokumentum beágyazási vektora a szavai beágyazás vektorának az átlaga.\n",
        "\n",
        "Használd az alábbi kódrészleteket!"
      ]
    },
    {
      "cell_type": "code",
      "execution_count": null,
      "metadata": {
        "colab": {
          "base_uri": "https://localhost:8080/",
          "height": 176
        },
        "id": "coNtqNyF5SPl",
        "outputId": "7da2507d-5f42-4181-d652-aba68f383588"
      },
      "outputs": [
        {
          "ename": "NameError",
          "evalue": "name 'static_word2vec' is not defined",
          "output_type": "error",
          "traceback": [
            "\u001b[0;31m---------------------------------------------------------------------------\u001b[0m",
            "\u001b[0;31mNameError\u001b[0m                                 Traceback (most recent call last)",
            "\u001b[0;32m<ipython-input-37-44fb87784b79>\u001b[0m in \u001b[0;36m<cell line: 1>\u001b[0;34m()\u001b[0m\n\u001b[1;32m      1\u001b[0m \u001b[0;32mfor\u001b[0m \u001b[0mword\u001b[0m \u001b[0;32min\u001b[0m \u001b[0mtext\u001b[0m\u001b[0;34m.\u001b[0m\u001b[0msplit\u001b[0m\u001b[0;34m(\u001b[0m\u001b[0;34m)\u001b[0m\u001b[0;34m:\u001b[0m\u001b[0;34m\u001b[0m\u001b[0;34m\u001b[0m\u001b[0m\n\u001b[0;32m----> 2\u001b[0;31m     \u001b[0;32mif\u001b[0m \u001b[0mword\u001b[0m \u001b[0;32min\u001b[0m \u001b[0mstatic_word2vec\u001b[0m\u001b[0;34m.\u001b[0m\u001b[0mwv\u001b[0m\u001b[0;34m:\u001b[0m  \u001b[0;31m# Ellenőrzi, hogy a szóhoz tartozik-e vektor\u001b[0m\u001b[0;34m\u001b[0m\u001b[0;34m\u001b[0m\u001b[0m\n\u001b[0m\u001b[1;32m      3\u001b[0m         \u001b[0mvectors\u001b[0m\u001b[0;34m.\u001b[0m\u001b[0mappend\u001b[0m\u001b[0;34m(\u001b[0m\u001b[0mstatic_word2vec\u001b[0m\u001b[0;34m.\u001b[0m\u001b[0mwv\u001b[0m\u001b[0;34m[\u001b[0m\u001b[0mword\u001b[0m\u001b[0;34m]\u001b[0m\u001b[0;34m)\u001b[0m\u001b[0;34m\u001b[0m\u001b[0;34m\u001b[0m\u001b[0m\n",
            "\u001b[0;31mNameError\u001b[0m: name 'static_word2vec' is not defined"
          ]
        }
      ],
      "source": [
        "for word in text.split():\n",
        "    if word in static_word2vec.wv:  # Ellenőrzi, hogy a szóhoz tartozik-e vektor\n",
        "        vectors.append(static_word2vec.wv[word])\n"
      ]
    },
    {
      "cell_type": "code",
      "execution_count": null,
      "metadata": {
        "colab": {
          "base_uri": "https://localhost:8080/",
          "height": 106
        },
        "id": "FxH9adeCe9SY",
        "outputId": "a65cbf08-6adc-4c1d-ad3a-e053de908e1a"
      },
      "outputs": [
        {
          "ename": "SyntaxError",
          "evalue": "'return' outside function (<ipython-input-38-bd8f641fb35a>, line 2)",
          "output_type": "error",
          "traceback": [
            "\u001b[0;36m  File \u001b[0;32m\"<ipython-input-38-bd8f641fb35a>\"\u001b[0;36m, line \u001b[0;32m2\u001b[0m\n\u001b[0;31m    return np.zeros(100)  # 100 dimenziós nullvektor\u001b[0m\n\u001b[0m    ^\u001b[0m\n\u001b[0;31mSyntaxError\u001b[0m\u001b[0;31m:\u001b[0m 'return' outside function\n"
          ]
        }
      ],
      "source": [
        "if len(vectors) == 0:  # Ha nincs érvényes szó a szövegben\n",
        "    return np.zeros(100)  # 100 dimenziós nullvektor\n",
        "else:\n",
        "    return np.mean(vectors, axis=0)  # Átlag a szavak vektorai alapján"
      ]
    },
    {
      "cell_type": "code",
      "execution_count": null,
      "metadata": {
        "id": "QTvQcOj668za"
      },
      "outputs": [],
      "source": []
    },
    {
      "cell_type": "markdown",
      "metadata": {
        "id": "ZqPHfHHJjji-"
      },
      "source": [
        "# 4 feladat\n",
        "Mi lenne a 3/A feladatra a predikció a negyedik reviewnak (3-as indexű sor) ha azt a huggingface `unsloth/Llama-3.2-1B` nagy nyelvi modell generálja (ami egy GPT típusú modell)!"
      ]
    },
    {
      "cell_type": "code",
      "execution_count": null,
      "metadata": {
        "colab": {
          "background_save": true,
          "base_uri": "https://localhost:8080/"
        },
        "id": "4iorDih37BlT",
        "outputId": "031185b9-6a2b-4c15-eb25-c13c03659103"
      },
      "outputs": [
        {
          "name": "stderr",
          "output_type": "stream",
          "text": [
            "The attention mask and the pad token id were not set. As a consequence, you may observe unexpected behavior. Please pass your input's `attention_mask` to obtain reliable results.\n",
            "Setting `pad_token_id` to `eos_token_id`:None for open-end generation.\n"
          ]
        },
        {
          "name": "stdout",
          "output_type": "stream",
          "text": [
            "Eredeti szöveg:\n",
            "I love, love, love this jumpsuit. it's fun, flirty, and fabulous! every time i wear it, i get nothing but great compliments!\n",
            "\n",
            "Generált szöveg:\n",
            "I love, love, love this jumpsuit. it's fun, flirty, and fabulous! every time i wear it, i get nothing but great compliments! it has a little bit of a swing to it and the waist is a bit snug so it does tend to show when you wear over a bikini or a tank top. but if you can pull it off, you look good! i love the way it comes in on the top to the bottom and i think it looks really cool! and it is so light weight, which is great for a summer day!\n"
          ]
        }
      ],
      "source": [
        "from transformers import AutoTokenizer, AutoModelForCausalLM\n",
        "\n",
        "tokenizer = AutoTokenizer.from_pretrained(\"unsloth/Llama-3.2-1B\")\n",
        "model = AutoModelForCausalLM.from_pretrained(\"unsloth/Llama-3.2-1B\")\n",
        "\n",
        "query_review = df.iloc[3][\"Review Text\"]\n",
        "\n",
        "inputs = tokenizer(query_review, return_tensors=\"pt\", max_length=512, truncation=True)\n",
        "\n",
        "inputs[\"attention_mask\"] = inputs[\"attention_mask\"] if \"attention_mask\" in inputs else None\n",
        "inputs[\"pad_token_id\"] = tokenizer.eos_token_id\n",
        "\n",
        "outputs = model.generate(inputs[\"input_ids\"], max_length=150, num_return_sequences=1, no_repeat_ngram_size=2, temperature=0.7, do_sample=True)\n",
        "\n",
        "generated_text = tokenizer.decode(outputs[0], skip_special_tokens=True)\n",
        "\n",
        "print(\"Eredeti szöveg:\")\n",
        "print(query_review)\n",
        "print(\"\\nGenerált szöveg:\")\n",
        "print(generated_text)\n"
      ]
    }
  ],
  "metadata": {
    "colab": {
      "provenance": []
    },
    "kernelspec": {
      "display_name": "Python 3",
      "name": "python3"
    },
    "language_info": {
      "name": "python"
    }
  },
  "nbformat": 4,
  "nbformat_minor": 0
}